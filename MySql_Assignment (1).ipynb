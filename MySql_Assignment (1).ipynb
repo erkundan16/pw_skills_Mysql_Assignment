{
 "cells": [
  {
   "cell_type": "markdown",
   "id": "37f17eca-d12e-4d15-b9b7-7246a915fe0b",
   "metadata": {},
   "source": [
    "1.\n",
    "\n",
    "Differentiate between SQL and NoSQL databases:\n",
    "* SQL databases are relational, use structured query language, and have a predefined schema.\n",
    "* NoSQL databases are non-relational, do not use structured query language, and have a dynamic schema."
   ]
  },
  {
   "cell_type": "markdown",
   "id": "b4c4741f-488c-440a-8a06-6013e883b490",
   "metadata": {},
   "source": [
    "2.\n",
    "\n",
    "DDL: DDL (Data Definition Language) is used to define database schema, and includes commands like CREATE, ALTER, and DROP. "
   ]
  },
  {
   "cell_type": "markdown",
   "id": "80f51f95-8a5c-4b11-828e-1b10d0637233",
   "metadata": {},
   "source": [
    "3. \n",
    "\n",
    "DML : DML (Data Manipulation Language) is used to manipulate data within a database, and includes commands like INSERT, UPDATE, and DELETE."
   ]
  },
  {
   "cell_type": "markdown",
   "id": "894ff6f0-0998-43a2-9f63-d2cd992cce9e",
   "metadata": {},
   "source": [
    "4.\n",
    "\n",
    "DQL :DQL (Data Query Language) is used to fetch data from a database, and includes the SELECT command."
   ]
  },
  {
   "cell_type": "markdown",
   "id": "825c3544-a09d-4918-ae87-2c5f09ce221c",
   "metadata": {},
   "source": [
    "5. \n",
    "\n",
    "Primary Key and Foreign Key concepts: A primary key is a unique identifier for a record in a table, while a foreign key is a set of one or more columns used to establish a link between the data in two tables."
   ]
  },
  {
   "cell_type": "markdown",
   "id": "bca03e05-2df3-4ce2-82bf-3a3670d97e64",
   "metadata": {},
   "source": [
    "6."
   ]
  },
  {
   "cell_type": "markdown",
   "id": "99d2d983-71da-492a-ac2e-9ed5e86929ad",
   "metadata": {},
   "source": [
    "import mysql.connector\n",
    "\n",
    "mydb = mysql.connector.connect(\n",
    "  host=\"localhost\",\n",
    "  user=\"username\",\n",
    "  password=\"password\",\n",
    "  database=\"databaseName\"\n",
    ")"
   ]
  },
  {
   "cell_type": "markdown",
   "id": "c60ce417-f6af-44cd-b0cc-e17cd3618a69",
   "metadata": {},
   "source": [
    "7.\n",
    "\n",
    "The order of execution is: FROM, WHERE, GROUP BY, HAVING, SELECT, ORDER BY."
   ]
  },
  {
   "cell_type": "code",
   "execution_count": null,
   "id": "404fdac4-f37e-4947-81e5-85c643ba4970",
   "metadata": {},
   "outputs": [],
   "source": []
  },
  {
   "cell_type": "code",
   "execution_count": null,
   "id": "16233a47-a732-4df0-8c7d-c84366b2927e",
   "metadata": {},
   "outputs": [],
   "source": []
  }
 ],
 "metadata": {
  "kernelspec": {
   "display_name": "Python 3 (ipykernel)",
   "language": "python",
   "name": "python3"
  },
  "language_info": {
   "codemirror_mode": {
    "name": "ipython",
    "version": 3
   },
   "file_extension": ".py",
   "mimetype": "text/x-python",
   "name": "python",
   "nbconvert_exporter": "python",
   "pygments_lexer": "ipython3",
   "version": "3.10.8"
  }
 },
 "nbformat": 4,
 "nbformat_minor": 5
}
